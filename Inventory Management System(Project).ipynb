{
 "cells": [
  {
   "cell_type": "markdown",
   "id": "233dbeff-50aa-4808-9b6f-9d5ccce6f9ab",
   "metadata": {},
   "source": [
    "Product Details \n",
    "1. Product ID\n",
    "2. Name of the Product\n",
    "3. Price of the product\n",
    "4. Quantity"
   ]
  },
  {
   "cell_type": "code",
   "execution_count": 1,
   "id": "12b49640-0dce-468f-92e3-bf3d6c1e6c3d",
   "metadata": {},
   "outputs": [],
   "source": [
    "fd = open(\"Inventory.txt\",'r')\n",
    "txt = fd.read()\n",
    "fd.close()"
   ]
  },
  {
   "cell_type": "code",
   "execution_count": 2,
   "id": "b49ef5fb-bd15-43f4-b942-af4edc627656",
   "metadata": {},
   "outputs": [
    {
     "data": {
      "text/plain": [
       "'1,5 Star,5,100\\n2,Milky bar,5,100\\n3,Cake,300,5\\n4,Candy,200,5'"
      ]
     },
     "execution_count": 2,
     "metadata": {},
     "output_type": "execute_result"
    }
   ],
   "source": [
    "txt\n"
   ]
  },
  {
   "cell_type": "code",
   "execution_count": 3,
   "id": "e1b057c4-caf1-42b4-a927-2e46aedd9aa4",
   "metadata": {},
   "outputs": [],
   "source": [
    "products = txt.split(\"\\n\")"
   ]
  },
  {
   "cell_type": "code",
   "execution_count": 4,
   "id": "bcd31326-0806-485b-9dd8-4fcacaba7bca",
   "metadata": {},
   "outputs": [
    {
     "name": "stdout",
     "output_type": "stream",
     "text": [
      "['1', '5 Star', '5', '100']\n",
      "['2', 'Milky bar', '5', '100']\n",
      "['3', 'Cake', '300', '5']\n",
      "['4', 'Candy', '200', '5']\n"
     ]
    }
   ],
   "source": [
    "for product in products:\n",
    "    print(product.split(\",\"))"
   ]
  },
  {
   "cell_type": "code",
   "execution_count": 5,
   "id": "5e9af9df-5b81-4c9d-aaff-315b3d513810",
   "metadata": {},
   "outputs": [
    {
     "name": "stdout",
     "output_type": "stream",
     "text": [
      "1,5 Star,5,100\n",
      "2,Milky bar,5,100\n",
      "3,Cake,300,5\n",
      "4,Candy,200,5\n"
     ]
    }
   ],
   "source": [
    "for i in products:\n",
    "    print(i)"
   ]
  },
  {
   "cell_type": "code",
   "execution_count": 6,
   "id": "91116d58-fc18-451c-91df-c949773bf1c7",
   "metadata": {},
   "outputs": [
    {
     "name": "stdin",
     "output_type": "stream",
     "text": [
      "Enter Product ID: 1\n",
      "Enter Product Quantity: 70\n"
     ]
    },
    {
     "name": "stdout",
     "output_type": "stream",
     "text": [
      "-----------------------\n",
      "Poduct name: 5 Star\n",
      "Price      : 5\n",
      "Quantity   : 70\n",
      "----------------------\n",
      "Billing amount 350\n",
      "----------------------\n"
     ]
    }
   ],
   "source": [
    "ui_product_id = input(\"Enter Product ID:\")\n",
    "ui_product_qn = input(\"Enter Product Quantity:\")\n",
    "\n",
    "for product in products:\n",
    "    product_details = product.split(',')\n",
    "    \n",
    "    if product_details[0] == ui_product_id:\n",
    "        print(\"-----------------------\")\n",
    "        print(\"Poduct name:\",product_details[1])\n",
    "        print(\"Price      :\",product_details[2])\n",
    "        print(\"Quantity   :\",ui_product_qn)\n",
    "        print(\"----------------------\")\n",
    "        print(\"Billing amount\",int(product_details[2])*int(ui_product_qn))\n",
    "        print(\"----------------------\")"
   ]
  },
  {
   "cell_type": "markdown",
   "id": "ddb6aadc-61cd-49b5-bf7f-8d96ec3fbfd1",
   "metadata": {},
   "source": [
    "# Updating the Inventory"
   ]
  },
  {
   "cell_type": "code",
   "execution_count": 37,
   "id": "937b8371-1f37-4a0c-8d3a-0c2030961bd5",
   "metadata": {},
   "outputs": [
    {
     "name": "stdin",
     "output_type": "stream",
     "text": [
      "Enter product ID:  1\n",
      "Enter product Quantity:  10\n"
     ]
    },
    {
     "name": "stdout",
     "output_type": "stream",
     "text": [
      "Sorry, wer'e not having enough qauntity\n",
      "Wer'e having only 0 quantity.\n",
      "Would you like to purchase it?\n"
     ]
    },
    {
     "name": "stdin",
     "output_type": "stream",
     "text": [
      "Press Y/N N\n"
     ]
    },
    {
     "name": "stdout",
     "output_type": "stream",
     "text": [
      "Thank you have a nice day\n",
      "-----------------\n",
      "Inventory Updated\n"
     ]
    }
   ],
   "source": [
    "import time\n",
    "# reading the Inventory \n",
    "fd = open('Inventory.txt', 'r')\n",
    "\n",
    "# Read and split the inventory into products\n",
    "products = fd.read().split('\\n')\n",
    "\n",
    "fd.close()\n",
    "\n",
    "# Taking the input \n",
    "ui_prod_id = input(\"Enter product ID: \")\n",
    "ui_prod_qn = input(\"Enter product Quantity: \")\n",
    "\n",
    "# Going through each product details \n",
    "updated_product_lst = []  # To store updated inventory\n",
    "for product in products:\n",
    "    prod_details = product.split(',') \n",
    "    \n",
    "    if prod_details[0] == ui_prod_id:\n",
    "    # Checking if we have product\n",
    "        \n",
    "        if(int(ui_prod_qn) <= int(prod_details[3])):\n",
    "        # Checking if we have enough quantity\n",
    "\n",
    "            print(\"-----------------------------\")\n",
    "            print(\"Product Name     : \", prod_details[1])\n",
    "            print(\"Price            : \", prod_details[2]) \n",
    "            print(\"Quantity         : \", ui_prod_qn) \n",
    "            print(\"-----------------------------\")\n",
    "            billing_amount = int(ui_prod_qn) * int(prod_details[2])\n",
    "            print(\"Billing Amount   : \", billing_amount)\n",
    "            print(\"-----------------------------\")\n",
    "            \n",
    "            prod_details[3] = str(int(prod_details[3]) - int(ui_prod_qn))\n",
    "            \n",
    "        else:\n",
    "            print(\"Sorry, wer'e not having enough qauntity\")\n",
    "            print(\"Wer'e having only\", prod_details[3],\"quantity.\")\n",
    "            print(\"Would you like to purchase it?\")\n",
    "            \n",
    "            ch = input(\"Press Y/N\")\n",
    "            \n",
    "            if(ch == 'Y' or ch == 'y'):\n",
    "                print(\"-----------------------------\")\n",
    "                print(\"Product Name     : \", prod_details[1])\n",
    "                print(\"Price            : \", prod_details[2]) \n",
    "                print(\"Quantity         : \", prod_details[3]) \n",
    "                print(\"-----------------------------\")\n",
    "                billing_amount = int(prod_details[3]) * int(prod_details[2])\n",
    "                print(\"Billing Amount   : \", billing_amount)\n",
    "                print(\"-----------------------------\")\n",
    "                \n",
    "                prod_details[3] = '0'\n",
    "                \n",
    "            else:\n",
    "                print('Thank you have a nice day')\n",
    "    # Updating my inventory list    \n",
    "    updated_product_lst.append(prod_details)\n",
    "\n",
    "lst = []\n",
    "# Updating my inventory string\n",
    "for i in updated_product_lst:\n",
    "    prod = i[0] + \",\" + i[1] + \",\" + i[2] + \",\" + i[3] + \"\\n\"\n",
    "    lst.append(prod)\n",
    "lst[-1] = lst[-1][:-1]\n",
    "\n",
    "fd = open('Inventory.txt', 'w')\n",
    "\n",
    "for i in lst :\n",
    "    fd.write(i)\n",
    "    \n",
    "fd.close()\n",
    "\n",
    "print('-----------------')\n",
    "print('Inventory Updated') "
   ]
  },
  {
   "cell_type": "markdown",
   "id": "24cacb30-9f64-435a-bd66-bff59476d25f",
   "metadata": {},
   "source": [
    "# Genrating sales"
   ]
  },
  {
   "cell_type": "code",
   "execution_count": 47,
   "id": "99146d7a-52ab-4be2-9c6f-d74a0a45cc3d",
   "metadata": {},
   "outputs": [
    {
     "name": "stdin",
     "output_type": "stream",
     "text": [
      "Enter your name hg\n",
      "Enter your number jhgsx\n",
      "Enter your mail kaxhg\n",
      "Enter product ID:  4\n",
      "Enter product Quantity:  3\n"
     ]
    },
    {
     "name": "stdout",
     "output_type": "stream",
     "text": [
      "Sorry, wer'e not having enough qauntity\n",
      "Wer'e having only 0 quantity.\n",
      "Would you like to purchase it?\n"
     ]
    },
    {
     "name": "stdin",
     "output_type": "stream",
     "text": [
      "Press Y/N y\n"
     ]
    },
    {
     "name": "stdout",
     "output_type": "stream",
     "text": [
      "-----------------------------\n",
      "Product Name     :  Candy\n",
      "Price            :  200\n",
      "Quantity         :  0\n",
      "-----------------------------\n",
      "Billing Amount   :  0\n",
      "-----------------------------\n",
      "-----------------\n",
      "Inventory Updated\n"
     ]
    }
   ],
   "source": [
    "import time\n",
    "# reading the Inventory \n",
    "fd = open('Inventory.txt', 'r')\n",
    "\n",
    "# Read and split the inventory into products\n",
    "products = fd.read().split('\\n')\n",
    "\n",
    "fd.close()\n",
    "\n",
    "# Taking the input \n",
    "ui_username = input(\"Enter your name\")\n",
    "ui_phone = input(\"Enter your number\")\n",
    "ui_mail = input(\"Enter your mail\")\n",
    "ui_prod_id = input(\"Enter product ID: \")\n",
    "ui_prod_qn = input(\"Enter product Quantity: \")\n",
    "\n",
    "# Going through each product details \n",
    "updated_product_lst = []  # To store updated inventory\n",
    "for product in products:\n",
    "    prod_details = product.split(',') \n",
    "    \n",
    "    if prod_details[0] == ui_prod_id:\n",
    "    # Checking if we have product\n",
    "        \n",
    "        if(int(ui_prod_qn) <= int(prod_details[3])):\n",
    "        # Checking if we have enough quantity\n",
    "\n",
    "            print(\"-----------------------------\")\n",
    "            print(\"Product Name     : \", prod_details[1])\n",
    "            print(\"Price            : \", prod_details[2]) \n",
    "            print(\"Quantity         : \", ui_prod_qn) \n",
    "            print(\"-----------------------------\")\n",
    "            billing_amount = int(ui_prod_qn) * int(prod_details[2])\n",
    "            print(\"Billing Amount   : \", billing_amount)\n",
    "            print(\"-----------------------------\")\n",
    "            \n",
    "            prod_details[3] = str(int(prod_details[3]) - int(ui_prod_qn))\n",
    "\n",
    "            # generating sales file\n",
    "            fd = open(\"sales.txt\",'a')\n",
    "            sales_details = ui_username + \",\" + ui_phone + \",\" + ui_mail + \",\"+ ui_prod_id +\",\"+ prod_details[1]+ \",\" + ui_prod_qn + \",\"+ str(int(ui_prod_qn) * int(prod_details[2])) + \",\"+ time.ctime()+ \"\\n\"\n",
    "            fd.write(sales_details)\n",
    "            fd.close()\n",
    "            \n",
    "        else:\n",
    "            print(\"Sorry, wer'e not having enough qauntity\")\n",
    "            print(\"Wer'e having only\", prod_details[3],\"quantity.\")\n",
    "            print(\"Would you like to purchase it?\")\n",
    "            \n",
    "            ch = input(\"Press Y/N\")\n",
    "            \n",
    "            if(ch == 'Y' or ch == 'y'):\n",
    "                print(\"-----------------------------\")\n",
    "                print(\"Product Name     : \", prod_details[1])\n",
    "                print(\"Price            : \", prod_details[2]) \n",
    "                print(\"Quantity         : \", prod_details[3]) \n",
    "                print(\"-----------------------------\")\n",
    "                billing_amount = int(prod_details[3]) * int(prod_details[2])\n",
    "                print(\"Billing Amount   : \", billing_amount)\n",
    "                print(\"-----------------------------\")\n",
    "  \n",
    "                # generating sales file\n",
    "                fd = open(\"sales.txt\",'a')\n",
    "                sales_details = ui_username + \",\" + ui_phone + \",\" + ui_mail + \",\"+ ui_prod_id +\",\"+ prod_details[1]+ \",\" + prod_details[3] + \",\"+ str(int(prod_details[3]) * int(prod_details[2])) + \",\"+ time.ctime()+ \"\\n\"\n",
    "                fd.write(sales_details)\n",
    "                fd.close()\n",
    "                  \n",
    "                # Updating inventory list\n",
    "                prod_details[3] = '0' \n",
    "                \n",
    "            else:\n",
    "                print('Thank you have a nice day')\n",
    "    # Updating my inventory list    \n",
    "    updated_product_lst.append(prod_details)\n",
    "\n",
    "lst = []\n",
    "# Updating my inventory string\n",
    "for i in updated_product_lst:\n",
    "    prod = i[0] + \",\" + i[1] + \",\" + i[2] + \",\" + i[3] + \"\\n\"\n",
    "    lst.append(prod)\n",
    "lst[-1] = lst[-1][:-1]\n",
    "\n",
    "fd = open('Inventory.txt', 'w')\n",
    "\n",
    "for i in lst :\n",
    "    fd.write(i)\n",
    "    \n",
    "fd.close()\n",
    "\n",
    "print('-----------------')\n",
    "print('Inventory Updated') "
   ]
  },
  {
   "cell_type": "code",
   "execution_count": null,
   "id": "6896ee00-0327-43ad-accf-3525e8afd7ff",
   "metadata": {},
   "outputs": [],
   "source": []
  }
 ],
 "metadata": {
  "kernelspec": {
   "display_name": "Python [conda env:base] *",
   "language": "python",
   "name": "conda-base-py"
  },
  "language_info": {
   "codemirror_mode": {
    "name": "ipython",
    "version": 3
   },
   "file_extension": ".py",
   "mimetype": "text/x-python",
   "name": "python",
   "nbconvert_exporter": "python",
   "pygments_lexer": "ipython3",
   "version": "3.12.7"
  }
 },
 "nbformat": 4,
 "nbformat_minor": 5
}
